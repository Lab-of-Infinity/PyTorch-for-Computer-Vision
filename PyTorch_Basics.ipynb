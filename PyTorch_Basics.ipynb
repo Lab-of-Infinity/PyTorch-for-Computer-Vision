{
  "nbformat": 4,
  "nbformat_minor": 0,
  "metadata": {
    "colab": {
      "provenance": [],
      "authorship_tag": "ABX9TyPT3a+CCicEosJB+0DCZ83Q",
      "include_colab_link": true
    },
    "kernelspec": {
      "name": "python3",
      "display_name": "Python 3"
    },
    "language_info": {
      "name": "python"
    },
    "accelerator": "GPU",
    "gpuClass": "standard"
  },
  "cells": [
    {
      "cell_type": "markdown",
      "metadata": {
        "id": "view-in-github",
        "colab_type": "text"
      },
      "source": [
        "<a href=\"https://colab.research.google.com/github/Lab-of-Infinity/PyTorch-for-Computer-Vision/blob/main/PyTorch_Basics.ipynb\" target=\"_parent\"><img src=\"https://colab.research.google.com/assets/colab-badge.svg\" alt=\"Open In Colab\"/></a>"
      ]
    },
    {
      "cell_type": "markdown",
      "source": [
        "## **What is PyTorch?**\n",
        "**PyTorch is a Python-based library which facilitates building Deep Learning models and using them in various applications. But this is more than just another Deep Learning library. It’s a scientific computing package (as the official PyTorch documents state).**\n",
        "\n",
        "It’s a Python-based scientific computing package targeted at two sets of audiences:\n",
        "1. A replacement for NumPy to use the power of GPUs\n",
        "2. A deep learning research platform that provides maximum flexibility and speed\n",
        "\n",
        "We mentioned PyTorch is the perfect choice for the first deep learning library you should learn. \n",
        "\n",
        "In this section, we will elaborate on why it is so.\n",
        "\n",
        "There is no shortage of Deep Learning libraries: Keras, Tensorflow, Caffe, Theano (RIP) and many more. What makes PyTorch different?\n",
        "\n",
        "- ***An ideal deep learning library should be easy to learn and use, flexible enough to be used in various applications, efficient so that we can deal with huge real-life datasets and accurate enough to provide correct results even in presence of uncertainty in input data.***\n",
        "\n",
        "- ***PyTorch performs really well on all these metrics mentioned above. The “pythonic” coding style makes it simple to learn and use. GPU acceleration, support for distributed computing and automatic gradient calculation helps in performing backward pass automatically starting from a forward expression.***\n",
        "\n",
        "- ***Of course, because of Python, it faces a risk of slow runtime but the high-performance C++ API (libtorch) removes that overhead. This makes the transition from R&D to Production very smooth. One more reason to use PyTorch!***"
      ],
      "metadata": {
        "id": "nE2dqooaieqr"
      }
    },
    {
      "cell_type": "markdown",
      "source": [
        "Reference Link : https://learnopencv.com/pytorch-for-beginners-basics/"
      ],
      "metadata": {
        "id": "SQ9c-oAXi6DA"
      }
    },
    {
      "cell_type": "markdown",
      "source": [
        "## Overview of the PyTorch Library\n",
        "\n",
        "Now that we are aware of PyTorch and what makes it unique, let’s have a look at the basic pipeline of a PyTorch project. The figure below describes a typical workflow along with the important modules associated with each step.\n",
        "\n",
        "###Torch Pipeline\n",
        "Basic PyTorch Workflow\n",
        "The important PyTorch modules that we are going to briefly discuss here are: torch.nn, torch.optim, torch.utils and torch.autograd.\n",
        "\n",
        "#### 1. Data Loading and Handling\n",
        "The very first step in any deep learning project deals with data loading and handling. PyTorch provides utilities for the same via torch.utils.data.\n",
        "\n",
        "The two important classes in this module are Dataset and DataLoader.\n",
        "\n",
        "  - Dataset is built on top of Tensor data type and is used primarily for custom datasets.\n",
        "  - DataLoader is used when you have a large dataset and you want to load data from a Dataset in background so that it’s ready and waiting for the training loop.\n",
        "We can also use torch.nn.DataParallel and torch.distributed if we have access to multiple machines or GPUs.\n",
        "\n",
        "#### 2. Building Neural Network\n",
        "The torch.nn module is used for creating Neural Networks. It provides all the common neural network layers such as fully connected layers, convolutional layers, activation and loss functions etc.\n",
        "\n",
        "Once the network architecture is created and data is ready to be fed to the network, we need techniques to update the weights and biases so that the network starts to learn. These utilities are provided in torch.optim module. Similarly, for automatic differentiation which is required during backward pass, we use the torch.autograd module.\n",
        "\n",
        "#### 3. Model Inference & Compatibility\n",
        "After the model has been trained, it can be used to predict output for test cases or even new datasets. This process is referred to as model inference.\n",
        "\n",
        "PyTorch also provides TorchScript which can be used to run models independently from a Python runtime. This can be thought of as a Virtual Machine with instructions mainly specific to Tensors.\n",
        "\n",
        "You can also convert model trained using PyTorch into formats like ONNX, which allow you to use these models in other DL frameworks such as MXNet, CNTK, Caffe2. You can also convert onnx models to Tensorflow."
      ],
      "metadata": {
        "id": "VXquH0KjjgaB"
      }
    },
    {
      "cell_type": "code",
      "source": [
        "import torch"
      ],
      "metadata": {
        "id": "nRylrgrLjf4x"
      },
      "execution_count": null,
      "outputs": []
    },
    {
      "cell_type": "code",
      "source": [
        "# create  tensor with just ones in a column\n",
        "a = torch.ones(5)\n",
        "print(a)"
      ],
      "metadata": {
        "colab": {
          "base_uri": "https://localhost:8080/"
        },
        "id": "XNC_Z_ztkCzK",
        "outputId": "a17666ff-345d-476a-fde9-2a7aee6ea5d1"
      },
      "execution_count": null,
      "outputs": [
        {
          "output_type": "stream",
          "name": "stdout",
          "text": [
            "tensor([1., 1., 1., 1., 1.])\n"
          ]
        }
      ]
    },
    {
      "cell_type": "code",
      "source": [
        "# Create a Tensor wih just zeros in a column\n",
        "b = torch.zeros(5)\n",
        "print(b)"
      ],
      "metadata": {
        "colab": {
          "base_uri": "https://localhost:8080/"
        },
        "id": "GoD6vE3TkC3X",
        "outputId": "e11672cd-1c07-4050-87d1-0e680825e329"
      },
      "execution_count": null,
      "outputs": [
        {
          "output_type": "stream",
          "name": "stdout",
          "text": [
            "tensor([0., 0., 0., 0., 0.])\n"
          ]
        }
      ]
    },
    {
      "cell_type": "code",
      "source": [
        "# Create a tensor with custom value\n",
        "c = torch.tensor([1.0,2.0,3.0,4.0,5.0])\n",
        "print(c)"
      ],
      "metadata": {
        "colab": {
          "base_uri": "https://localhost:8080/"
        },
        "id": "FEH3sojLkobv",
        "outputId": "11ba232d-5efc-4fe5-f797-d6eacb550c13"
      },
      "execution_count": null,
      "outputs": [
        {
          "output_type": "stream",
          "name": "stdout",
          "text": [
            "tensor([1., 2., 3., 4., 5.])\n"
          ]
        }
      ]
    },
    {
      "cell_type": "markdown",
      "source": [
        "Creating Higher dimensional Tensor"
      ],
      "metadata": {
        "id": "7DgdLmSUk5fA"
      }
    },
    {
      "cell_type": "code",
      "source": [
        "d = torch.zeros(3,2)\n",
        "print(d)"
      ],
      "metadata": {
        "colab": {
          "base_uri": "https://localhost:8080/"
        },
        "id": "JlPnOLj4koYi",
        "outputId": "ed6c08da-2a9b-4c04-bd6a-e015f62e3009"
      },
      "execution_count": null,
      "outputs": [
        {
          "output_type": "stream",
          "name": "stdout",
          "text": [
            "tensor([[0., 0.],\n",
            "        [0., 0.],\n",
            "        [0., 0.]])\n"
          ]
        }
      ]
    },
    {
      "cell_type": "code",
      "source": [
        "e= torch.ones(3,2)\n",
        "print(e)"
      ],
      "metadata": {
        "colab": {
          "base_uri": "https://localhost:8080/"
        },
        "id": "5ovJbIQFlX99",
        "outputId": "4b9ce43f-59e7-4308-c924-1430d03cc5ab"
      },
      "execution_count": null,
      "outputs": [
        {
          "output_type": "stream",
          "name": "stdout",
          "text": [
            "tensor([[1., 1.],\n",
            "        [1., 1.],\n",
            "        [1., 1.]])\n"
          ]
        }
      ]
    },
    {
      "cell_type": "code",
      "execution_count": null,
      "metadata": {
        "colab": {
          "base_uri": "https://localhost:8080/"
        },
        "id": "5g4iRbTMiQd0",
        "outputId": "6d807867-06c9-4fef-f439-3fb457ff330e"
      },
      "outputs": [
        {
          "output_type": "stream",
          "name": "stdout",
          "text": [
            "tensor([[1., 2.],\n",
            "        [3., 4.]])\n"
          ]
        }
      ],
      "source": [
        "f = torch.tensor([[1.0,2.0],[3.0,4.0]])\n",
        "print(f)"
      ]
    },
    {
      "cell_type": "code",
      "source": [
        "# 3D Tensor\n",
        "g = torch.tensor([[[1.,2.],[3.,4.]], [[5.,6.],[7.,8.]]])\n",
        "print(g)"
      ],
      "metadata": {
        "colab": {
          "base_uri": "https://localhost:8080/"
        },
        "id": "JYcqUaCylX3Q",
        "outputId": "79f33c7c-9b75-458e-e451-089213b8867c"
      },
      "execution_count": null,
      "outputs": [
        {
          "output_type": "stream",
          "name": "stdout",
          "text": [
            "tensor([[[1., 2.],\n",
            "         [3., 4.]],\n",
            "\n",
            "        [[5., 6.],\n",
            "         [7., 8.]]])\n"
          ]
        }
      ]
    },
    {
      "cell_type": "markdown",
      "source": [
        "- Shape of Tensor"
      ],
      "metadata": {
        "id": "58MM9g7wmjy3"
      }
    },
    {
      "cell_type": "code",
      "source": [
        "print(f.shape)"
      ],
      "metadata": {
        "colab": {
          "base_uri": "https://localhost:8080/"
        },
        "id": "viQZiJiWmcQC",
        "outputId": "03d1a5df-e849-4c4a-bfec-a69199862660"
      },
      "execution_count": null,
      "outputs": [
        {
          "output_type": "stream",
          "name": "stdout",
          "text": [
            "torch.Size([2, 2])\n"
          ]
        }
      ]
    },
    {
      "cell_type": "code",
      "source": [
        "print(e.shape)"
      ],
      "metadata": {
        "colab": {
          "base_uri": "https://localhost:8080/"
        },
        "id": "FFwd2GTRmitK",
        "outputId": "d2e3a467-720d-421d-d767-e1ca6fb949fb"
      },
      "execution_count": null,
      "outputs": [
        {
          "output_type": "stream",
          "name": "stdout",
          "text": [
            "torch.Size([3, 2])\n"
          ]
        }
      ]
    },
    {
      "cell_type": "code",
      "source": [
        "print(g.shape)"
      ],
      "metadata": {
        "colab": {
          "base_uri": "https://localhost:8080/"
        },
        "id": "FtwNYqfumioA",
        "outputId": "ec57c7bb-ea67-4e8c-a7f3-3924c17fb441"
      },
      "execution_count": null,
      "outputs": [
        {
          "output_type": "stream",
          "name": "stdout",
          "text": [
            "torch.Size([2, 2, 2])\n"
          ]
        }
      ]
    },
    {
      "cell_type": "markdown",
      "source": [
        "- Access an element in Tensor"
      ],
      "metadata": {
        "id": "i3dhsU3UrLIe"
      }
    },
    {
      "cell_type": "code",
      "source": [
        "print(c[2])"
      ],
      "metadata": {
        "colab": {
          "base_uri": "https://localhost:8080/"
        },
        "id": "Qu0XlQAKrHqS",
        "outputId": "d655bf36-5b4e-45b5-86da-9553f278051b"
      },
      "execution_count": null,
      "outputs": [
        {
          "output_type": "stream",
          "name": "stdout",
          "text": [
            "tensor(3.)\n"
          ]
        }
      ]
    },
    {
      "cell_type": "code",
      "source": [
        "# Get element at row 1, column 0\n",
        "print(f[1,0])"
      ],
      "metadata": {
        "colab": {
          "base_uri": "https://localhost:8080/"
        },
        "id": "OOIyZ1FDrHnP",
        "outputId": "9999da40-1355-4bee-baa9-646ade643323"
      },
      "execution_count": null,
      "outputs": [
        {
          "output_type": "stream",
          "name": "stdout",
          "text": [
            "tensor(3.)\n"
          ]
        }
      ]
    },
    {
      "cell_type": "code",
      "source": [
        "# We can also use the following\n",
        "print(f[1][0])"
      ],
      "metadata": {
        "colab": {
          "base_uri": "https://localhost:8080/"
        },
        "id": "hDFvIjJVrHkJ",
        "outputId": "f6d3bebf-5615-4954-e82e-39958c7c6609"
      },
      "execution_count": null,
      "outputs": [
        {
          "output_type": "stream",
          "name": "stdout",
          "text": [
            "tensor(3.)\n"
          ]
        }
      ]
    },
    {
      "cell_type": "code",
      "source": [
        "# Similarly for 3D Tensor\n",
        "print(g[1,0,0])"
      ],
      "metadata": {
        "colab": {
          "base_uri": "https://localhost:8080/"
        },
        "id": "kyR_G91IrHbY",
        "outputId": "65ff69a8-5a45-4ef3-948d-3e6a08422b3f"
      },
      "execution_count": null,
      "outputs": [
        {
          "output_type": "stream",
          "name": "stdout",
          "text": [
            "tensor(5.)\n"
          ]
        }
      ]
    },
    {
      "cell_type": "code",
      "source": [
        "print(g[1][0][0])"
      ],
      "metadata": {
        "colab": {
          "base_uri": "https://localhost:8080/"
        },
        "id": "s_03vyO1rpGv",
        "outputId": "beb73461-7a01-4db8-9175-d0d13a14978f"
      },
      "execution_count": null,
      "outputs": [
        {
          "output_type": "stream",
          "name": "stdout",
          "text": [
            "tensor(5.)\n"
          ]
        }
      ]
    },
    {
      "cell_type": "markdown",
      "source": [
        "But what if you wanted to access one entire row in a 2D Tensor? We can use the same syntax as we would use in NumPy Arrays."
      ],
      "metadata": {
        "id": "BEP3ceYTsC-u"
      }
    },
    {
      "cell_type": "code",
      "source": [
        "# All elements\n",
        "print(f[:])"
      ],
      "metadata": {
        "colab": {
          "base_uri": "https://localhost:8080/"
        },
        "id": "omqjJPYerHSO",
        "outputId": "c798d69e-47ff-4fe1-ad80-b11eb7cf26ac"
      },
      "execution_count": null,
      "outputs": [
        {
          "output_type": "stream",
          "name": "stdout",
          "text": [
            "tensor([[1., 2.],\n",
            "        [3., 4.]])\n"
          ]
        }
      ]
    },
    {
      "cell_type": "code",
      "source": [
        "# All elements from index 1 to 2\n",
        "print(c[1:3])"
      ],
      "metadata": {
        "colab": {
          "base_uri": "https://localhost:8080/"
        },
        "id": "5m5AA__nsG1O",
        "outputId": "465713c1-fa2b-42cb-9209-9a03f47d82de"
      },
      "execution_count": null,
      "outputs": [
        {
          "output_type": "stream",
          "name": "stdout",
          "text": [
            "tensor([2., 3.])\n"
          ]
        }
      ]
    },
    {
      "cell_type": "code",
      "source": [
        "# All elements till index 4\n",
        "print(c[:4])"
      ],
      "metadata": {
        "colab": {
          "base_uri": "https://localhost:8080/"
        },
        "id": "zjPKxISnsGtF",
        "outputId": "40db1533-4d26-4a85-a7b2-e2980f05c1c0"
      },
      "execution_count": null,
      "outputs": [
        {
          "output_type": "stream",
          "name": "stdout",
          "text": [
            "tensor([1., 2., 3., 4.])\n"
          ]
        }
      ]
    },
    {
      "cell_type": "code",
      "source": [
        "# First Row\n",
        "print(f[0,:])"
      ],
      "metadata": {
        "colab": {
          "base_uri": "https://localhost:8080/"
        },
        "id": "bWgWoK3HsGp8",
        "outputId": "848184d4-caf8-4ff5-c258-c9077dfe6a1b"
      },
      "execution_count": null,
      "outputs": [
        {
          "output_type": "stream",
          "name": "stdout",
          "text": [
            "tensor([1., 2.])\n"
          ]
        }
      ]
    },
    {
      "cell_type": "code",
      "source": [
        "# Second Column\n",
        "print(f[:,1])"
      ],
      "metadata": {
        "colab": {
          "base_uri": "https://localhost:8080/"
        },
        "id": "oA4lnS8Zsh_3",
        "outputId": "e16e047f-4833-4972-e95a-2a3d121d3492"
      },
      "execution_count": null,
      "outputs": [
        {
          "output_type": "stream",
          "name": "stdout",
          "text": [
            "tensor([2., 4.])\n"
          ]
        }
      ]
    },
    {
      "cell_type": "markdown",
      "source": [
        "#### Specify data type of elements\n",
        "Whenever we create a tensor, PyTorch decides the data type of the elements of the tensor such that the data type can cover all the elements of the tensor. We can override this by specifying the data type while creating the tensor."
      ],
      "metadata": {
        "id": "EWXr9raFsyzZ"
      }
    },
    {
      "cell_type": "code",
      "source": [
        "int_tensor = torch.tensor([[1,2,3],[4,5,6]])\n",
        "print(int_tensor.dtype)"
      ],
      "metadata": {
        "colab": {
          "base_uri": "https://localhost:8080/"
        },
        "id": "rl7bH_05stVx",
        "outputId": "eae9d48f-0cc1-4d8f-d3f0-0071f2319631"
      },
      "execution_count": null,
      "outputs": [
        {
          "output_type": "stream",
          "name": "stdout",
          "text": [
            "torch.int64\n"
          ]
        }
      ]
    },
    {
      "cell_type": "code",
      "source": [
        "# What if we changed any one element to floating point number?\n",
        "int_tensor = torch.tensor([[1,2,3],[4.,5,6]])\n",
        "print(int_tensor.dtype)"
      ],
      "metadata": {
        "colab": {
          "base_uri": "https://localhost:8080/"
        },
        "id": "G9rxM-Xqs6fr",
        "outputId": "0ed42eb4-5177-43ce-a045-12371aad210c"
      },
      "execution_count": null,
      "outputs": [
        {
          "output_type": "stream",
          "name": "stdout",
          "text": [
            "torch.float32\n"
          ]
        }
      ]
    },
    {
      "cell_type": "code",
      "source": [
        "# This can be overridden as follows\n",
        "int_tensor = torch.tensor([[1,2,3],[4.,5,6]], dtype = torch.int32)\n",
        "print(int_tensor.dtype)"
      ],
      "metadata": {
        "colab": {
          "base_uri": "https://localhost:8080/"
        },
        "id": "JKOMfbWas6cI",
        "outputId": "6dc62511-9268-4b4d-8d9b-99b95a1d5ec0"
      },
      "execution_count": null,
      "outputs": [
        {
          "output_type": "stream",
          "name": "stdout",
          "text": [
            "torch.int32\n"
          ]
        },
        {
          "output_type": "stream",
          "name": "stderr",
          "text": [
            "<ipython-input-25-eaffba5815fa>:2: DeprecationWarning: an integer is required (got type float).  Implicit conversion to integers using __int__ is deprecated, and may be removed in a future version of Python.\n",
            "  int_tensor = torch.tensor([[1,2,3],[4.,5,6]], dtype = torch.int32)\n"
          ]
        }
      ]
    },
    {
      "cell_type": "markdown",
      "source": [
        "### Tensor to/from NumPy Array"
      ],
      "metadata": {
        "id": "-1T9LhwTuIWm"
      }
    },
    {
      "cell_type": "code",
      "source": [
        "import numpy as np\n",
        "# tensor to array\n",
        "f_numpy = f.numpy()\n",
        "print(f_numpy)"
      ],
      "metadata": {
        "colab": {
          "base_uri": "https://localhost:8080/"
        },
        "id": "EL6nxvcNs6Y2",
        "outputId": "427f968e-8eb3-4dc2-be43-d38172ab0943"
      },
      "execution_count": null,
      "outputs": [
        {
          "output_type": "stream",
          "name": "stdout",
          "text": [
            "[[1. 2.]\n",
            " [3. 4.]]\n"
          ]
        }
      ]
    },
    {
      "cell_type": "code",
      "source": [
        "# Array to Tensor\n",
        "h = np.array([[8,7,6,5],[4,3,2,1]])"
      ],
      "metadata": {
        "id": "mzLCZw9YuNFV"
      },
      "execution_count": null,
      "outputs": []
    },
    {
      "cell_type": "code",
      "source": [
        "h_tensor = torch.from_numpy(h)"
      ],
      "metadata": {
        "id": "9Nzudsynut95"
      },
      "execution_count": null,
      "outputs": []
    },
    {
      "cell_type": "code",
      "source": [
        "print(h_tensor)"
      ],
      "metadata": {
        "colab": {
          "base_uri": "https://localhost:8080/"
        },
        "id": "H3m122qSuzZQ",
        "outputId": "59b3fbd0-4503-48f0-d31d-c55d76c3528f"
      },
      "execution_count": null,
      "outputs": [
        {
          "output_type": "stream",
          "name": "stdout",
          "text": [
            "tensor([[8, 7, 6, 5],\n",
            "        [4, 3, 2, 1]])\n"
          ]
        }
      ]
    },
    {
      "cell_type": "markdown",
      "source": [
        "### Arithmetic Operations on Tensors"
      ],
      "metadata": {
        "id": "gUabb288u5nG"
      }
    },
    {
      "cell_type": "code",
      "source": [
        "tensor1 = torch.tensor([[1,2,3],[4,5,6]])\n",
        "tensor2 = torch.tensor([[-1,2,-3],[4,-5,6]])"
      ],
      "metadata": {
        "id": "H9RE2bViu3km"
      },
      "execution_count": null,
      "outputs": []
    },
    {
      "cell_type": "code",
      "source": [
        "# Addition\n"
      ],
      "metadata": {
        "id": "KzYO7QOnwVaN"
      },
      "execution_count": null,
      "outputs": []
    },
    {
      "cell_type": "code",
      "source": [],
      "metadata": {
        "id": "TSD7pkDRwVL9"
      },
      "execution_count": null,
      "outputs": []
    },
    {
      "cell_type": "code",
      "source": [
        "# Create tensor\n",
        "tensor1 = torch.tensor([[1,2,3],[4,5,6]])\n",
        "tensor2 = torch.tensor([[-1,2,-3],[4,-5,6]])\n",
        " \n",
        "# Addition\n",
        "print(tensor1+tensor2)\n",
        "# We can also use\n",
        "print(torch.add(tensor1,tensor2))\n",
        " \n",
        "# tensor([[ 0,  4,  0],\n",
        "#        [ 8,  0, 12]])\n",
        " \n",
        "# Subtraction\n",
        "print(tensor1-tensor2)\n",
        "# We can also use\n",
        "print(torch.sub(tensor1,tensor2))\n",
        " \n",
        "# tensor([[ 2,  0,  6],\n",
        "#        [ 0, 10,  0]])\n",
        " \n",
        "# Multiplication\n",
        "# Tensor with Scalar\n",
        "print(tensor1 * 2)\n",
        "# tensor([[ 2,  4,  6],\n",
        "#        [ 8, 10, 12]])\n",
        " \n",
        "# Tensor with another tensor\n",
        "# Elementwise Multiplication\n",
        "print(tensor1 * tensor2)\n",
        "# tensor([[ -1,   4,  -9],\n",
        "#        [ 16, -25,  36]])\n",
        " \n",
        "# Matrix multiplication\n",
        "tensor3 = torch.tensor([[1,2],[3,4],[5,6]])\n",
        "print(torch.mm(tensor1,tensor3))\n",
        "# tensor([[22, 28],\n",
        "#        [49, 64]])\n",
        " \n",
        "# Division\n",
        "# Tensor with scalar\n",
        "print(tensor1/2)\n",
        "# tensor([[0, 1, 1],\n",
        "#        [2, 2, 3]])\n",
        " \n",
        "# Tensor with another tensor\n",
        "# Elementwise division\n",
        "print(tensor1/tensor2)\n",
        "# tensor([[-1,  1, -1],\n",
        "#        [ 1, -1,  1]])"
      ],
      "metadata": {
        "id": "FM2c5PlEwVIC"
      },
      "execution_count": null,
      "outputs": []
    },
    {
      "cell_type": "code",
      "source": [],
      "metadata": {
        "id": "2XyBAJOowVFP"
      },
      "execution_count": null,
      "outputs": []
    }
  ]
}